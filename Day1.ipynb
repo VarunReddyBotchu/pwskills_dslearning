{
 "cells": [
  {
   "cell_type": "markdown",
   "id": "ae67643c-1e4f-4631-8128-5fac8844718b",
   "metadata": {},
   "source": [
    "##### Commentss\n",
    "##### print statements\n",
    "##### Assigning values to variables\n",
    "##### type function\n",
    "##### Dynamic Typing\n",
    "##### type casting\n",
    "##### Concatenation\n",
    "##### Boolean "
   ]
  },
  {
   "cell_type": "code",
   "execution_count": 3,
   "id": "20b14eb7-35cf-45ab-8626-5a9520532c71",
   "metadata": {},
   "outputs": [
    {
     "data": {
      "text/plain": [
       "'\\nthis \\nis \\nmultiple line comment\\n'"
      ]
     },
     "execution_count": 3,
     "metadata": {},
     "output_type": "execute_result"
    }
   ],
   "source": [
    "#single line and multiple line comments\n",
    "\n",
    "#single line comment\n",
    "\"\"\"this \n",
    " is \n",
    " multiple line comment \"\"\""
   ]
  },
  {
   "cell_type": "code",
   "execution_count": 5,
   "id": "9b643a9a-d434-48a5-ad7c-f7d3d0d02715",
   "metadata": {},
   "outputs": [
    {
     "name": "stdout",
     "output_type": "stream",
     "text": [
      "we can use \n",
      " for multiline print statement\n",
      " We can use \n",
      "this for multiple line comment \n"
     ]
    }
   ],
   "source": [
    "#print stament\n",
    "print(\"we can use \\n for multiline print statement\")\n",
    "print(''' We can use \n",
    "this for multiple line comment ''')"
   ]
  },
  {
   "cell_type": "code",
   "execution_count": 6,
   "id": "2da77e6a-8db0-4e71-88ec-57816b207812",
   "metadata": {},
   "outputs": [
    {
     "data": {
      "text/plain": [
       "int"
      ]
     },
     "execution_count": 6,
     "metadata": {},
     "output_type": "execute_result"
    }
   ],
   "source": [
    "#Assigning values to variables\n",
    "#type function\n",
    "#Dynamic typing\n",
    "var=23\n",
    "type(var)"
   ]
  },
  {
   "cell_type": "code",
   "execution_count": 14,
   "id": "98111771-4150-4762-b2e4-8daf3dd80331",
   "metadata": {},
   "outputs": [
    {
     "data": {
      "text/plain": [
       "0"
      ]
     },
     "execution_count": 14,
     "metadata": {},
     "output_type": "execute_result"
    }
   ],
   "source": [
    "#Type casting\n",
    "var=2567\n",
    "str(var)\n",
    "int()"
   ]
  },
  {
   "cell_type": "code",
   "execution_count": 18,
   "id": "863a91fe-159a-4d67-8eba-02061b7d17fa",
   "metadata": {},
   "outputs": [
    {
     "data": {
      "text/plain": [
       "2"
      ]
     },
     "execution_count": 18,
     "metadata": {},
     "output_type": "execute_result"
    }
   ],
   "source": [
    "\"1\" + \"1\""
   ]
  },
  {
   "cell_type": "code",
   "execution_count": 19,
   "id": "ce71e075-9d13-463a-85df-e4562a9081e3",
   "metadata": {},
   "outputs": [
    {
     "data": {
      "text/plain": [
       "2"
      ]
     },
     "execution_count": 19,
     "metadata": {},
     "output_type": "execute_result"
    }
   ],
   "source": [
    "1+1"
   ]
  },
  {
   "cell_type": "code",
   "execution_count": 20,
   "id": "a77d9862-fed2-43c2-9a2d-f089f89bb5d4",
   "metadata": {},
   "outputs": [
    {
     "data": {
      "text/plain": [
       "'1'"
      ]
     },
     "execution_count": 20,
     "metadata": {},
     "output_type": "execute_result"
    }
   ],
   "source": [
    "\"1\" * 1"
   ]
  },
  {
   "cell_type": "code",
   "execution_count": 21,
   "id": "abec081f-8efe-4e7e-a8cc-b7db2226450a",
   "metadata": {},
   "outputs": [
    {
     "data": {
      "text/plain": [
       "False"
      ]
     },
     "execution_count": 21,
     "metadata": {},
     "output_type": "execute_result"
    }
   ],
   "source": [
    "#Boolean \n",
    "bool(0)"
   ]
  },
  {
   "cell_type": "code",
   "execution_count": 22,
   "id": "b735cedf-3599-437b-bf20-98af306f0d46",
   "metadata": {},
   "outputs": [
    {
     "data": {
      "text/plain": [
       "True"
      ]
     },
     "execution_count": 22,
     "metadata": {},
     "output_type": "execute_result"
    }
   ],
   "source": [
    "bool(-7)"
   ]
  },
  {
   "cell_type": "code",
   "execution_count": 23,
   "id": "4bdb7ac6-55c9-4e46-9f4b-cfb229e17e10",
   "metadata": {},
   "outputs": [
    {
     "data": {
      "text/plain": [
       "True"
      ]
     },
     "execution_count": 23,
     "metadata": {},
     "output_type": "execute_result"
    }
   ],
   "source": [
    "bool(4534)"
   ]
  },
  {
   "cell_type": "code",
   "execution_count": null,
   "id": "05b76493-db78-4fbf-b1ff-faba4886e828",
   "metadata": {},
   "outputs": [],
   "source": []
  }
 ],
 "metadata": {
  "kernelspec": {
   "display_name": "Python 3 (ipykernel)",
   "language": "python",
   "name": "python3"
  },
  "language_info": {
   "codemirror_mode": {
    "name": "ipython",
    "version": 3
   },
   "file_extension": ".py",
   "mimetype": "text/x-python",
   "name": "python",
   "nbconvert_exporter": "python",
   "pygments_lexer": "ipython3",
   "version": "3.10.8"
  }
 },
 "nbformat": 4,
 "nbformat_minor": 5
}
