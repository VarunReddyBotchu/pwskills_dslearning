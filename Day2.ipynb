{
 "cells": [
  {
   "cell_type": "code",
   "execution_count": 21,
   "id": "d1fab836-e75a-4ead-98ff-616580216a9e",
   "metadata": {},
   "outputs": [
    {
     "data": {
      "text/plain": [
       "3"
      ]
     },
     "execution_count": 21,
     "metadata": {},
     "output_type": "execute_result"
    }
   ],
   "source": [
    "int(1+2)\n"
   ]
  },
  {
   "cell_type": "code",
   "execution_count": 8,
   "id": "f8a95df2-0720-44ec-a536-cd9b15c1280a",
   "metadata": {},
   "outputs": [
    {
     "data": {
      "text/plain": [
       "4"
      ]
     },
     "execution_count": 8,
     "metadata": {},
     "output_type": "execute_result"
    }
   ],
   "source": [
    "int(\"0b100\", base=0)"
   ]
  },
  {
   "cell_type": "code",
   "execution_count": 9,
   "id": "75f8fe24-3555-4cc2-b59c-fa5ebd533928",
   "metadata": {},
   "outputs": [
    {
     "name": "stdout",
     "output_type": "stream",
     "text": [
      "7.893\n"
     ]
    }
   ],
   "source": [
    "print(7.893)"
   ]
  },
  {
   "cell_type": "code",
   "execution_count": 20,
   "id": "770a409f-cdd4-4e4e-ae20-d8887b204689",
   "metadata": {},
   "outputs": [
    {
     "name": "stdout",
     "output_type": "stream",
     "text": [
      "My age is 22 and I have completed: my degree of BTech with the name of varun Kumar\n",
      "My age is 22 and I have completed: my degree of BTech with the name of varun Kumar\n",
      "My age is 22 and I have completed: my degree of BTech with the name of varun Kumar\n"
     ]
    }
   ],
   "source": [
    "name=\"varun Kumar\"\n",
    "age=22\n",
    "degree=\"BTech\"\n",
    "print(\"My age is {} and I have completed: my degree of {} with the name of {}\".format(age,degree,name))\n",
    "print(f\"My age is {age} and I have completed: my degree of {degree} with the name of {name}\")\n",
    "print(\"My age is\",str(age) + \" and I have completed: my degree of\",degree + \" with the name of\", name)"
   ]
  },
  {
   "cell_type": "code",
   "execution_count": 33,
   "id": "7ba45ad0-0ad5-426d-91a5-224332768fee",
   "metadata": {},
   "outputs": [
    {
     "name": "stdout",
     "output_type": "stream",
     "text": [
      "You are not eligible to vote\n",
      "3\n"
     ]
    }
   ],
   "source": [
    "#if statement\n",
    "age=2\n",
    "if(age<18):\n",
    "    print(\"You are not eligible to vote\")\n",
    "    age=age+1\n",
    "print(age)\n"
   ]
  },
  {
   "cell_type": "code",
   "execution_count": 38,
   "id": "85811fa5-3222-431c-8325-dec2f0c67c3f",
   "metadata": {},
   "outputs": [
    {
     "name": "stdin",
     "output_type": "stream",
     "text": [
      "Enter the sentence this is fun\n"
     ]
    }
   ],
   "source": [
    "sentence=input(\"Enter the sentence:\")"
   ]
  },
  {
   "cell_type": "code",
   "execution_count": 39,
   "id": "26586b3d-f2c2-4781-8c6d-6c1fda7bdcf2",
   "metadata": {},
   "outputs": [
    {
     "name": "stdout",
     "output_type": "stream",
     "text": [
      "this is fun\n"
     ]
    }
   ],
   "source": [
    "print(sentence)"
   ]
  },
  {
   "cell_type": "code",
   "execution_count": 5,
   "id": "368159f8-8be6-4ef9-a0c8-f9eeb96fa1e9",
   "metadata": {},
   "outputs": [
    {
     "name": "stdin",
     "output_type": "stream",
     "text": [
      "Enter your age: 22\n"
     ]
    }
   ],
   "source": [
    "age=int(input(\"Enter your age:\"))"
   ]
  },
  {
   "cell_type": "code",
   "execution_count": 44,
   "id": "152ce332-0ef1-45a5-8e8b-3876cf6cfdcb",
   "metadata": {},
   "outputs": [],
   "source": [
    "##Task\n",
    "#Take input of age \\\n",
    "#check whether age>=18 and age<=45\n",
    "#display a message \"You are young blood\n"
   ]
  },
  {
   "cell_type": "code",
   "execution_count": 54,
   "id": "20584725-0d38-4f69-8c9a-89a15c211447",
   "metadata": {},
   "outputs": [
    {
     "name": "stdin",
     "output_type": "stream",
     "text": [
      "Enter your age: 66\n"
     ]
    },
    {
     "name": "stdout",
     "output_type": "stream",
     "text": [
      "You are not in the range of young blood\n"
     ]
    }
   ],
   "source": [
    "age=int(input(\"Enter your age:\"))\n",
    "if (age>=18 and age<=45):\n",
    "    print(\"You are yound blood\")\n",
    "else:\n",
    "    print(\"You are not in the range of young blood\")"
   ]
  },
  {
   "cell_type": "code",
   "execution_count": 53,
   "id": "11ca580d-4574-4c90-83a1-f672ba1cfc19",
   "metadata": {},
   "outputs": [
    {
     "data": {
      "text/plain": [
       "False"
      ]
     },
     "execution_count": 53,
     "metadata": {},
     "output_type": "execute_result"
    }
   ],
   "source": [
    "22>18 and 66<18"
   ]
  },
  {
   "cell_type": "code",
   "execution_count": 60,
   "id": "cad7646f-befa-4b43-9e27-8c200a5dd90f",
   "metadata": {},
   "outputs": [
    {
     "name": "stdout",
     "output_type": "stream",
     "text": [
      "Welcome to Online Shoping Portal\n"
     ]
    },
    {
     "name": "stdin",
     "output_type": "stream",
     "text": [
      "Enter the price of product you wish to buy: 2365\n"
     ]
    },
    {
     "name": "stdout",
     "output_type": "stream",
     "text": [
      "Your product price was 2365.YOu will be getting a discount of 20%off\n",
      "Your total after 20% discount is 2345\n"
     ]
    }
   ],
   "source": [
    "##product price as input\n",
    "#mall-event\n",
    "#product>1000 product price and 20%off\n",
    "# product<=1000 product price and discount 30% off\n",
    "#print product price after removing the discout\n",
    "print(\"Welcome to Online Shoping Portal\")\n",
    "prodprice=int(input(\"Enter the price of product you wish to buy:\"))\n",
    "if prodprice<=1000 and prodprice>0:\n",
    "    print(\"Your product price was {}.You will be getting a discount of 30%off\".format(prodprice))\n",
    "    total=prodprice-(30%prodprice)\n",
    "    print(\"Your total after 30% discount is\", total)\n",
    "else:\n",
    "    print(\"Your product price was {}.YOu will be getting a discount of 20%off\".format(prodprice))\n",
    "    total=prodprice-(20%prodprice)\n",
    "    print(\"Your total after 20% discount is\", total)\n"
   ]
  },
  {
   "cell_type": "code",
   "execution_count": 8,
   "id": "615c08e3-2077-486f-9974-7a6e185f7fd8",
   "metadata": {},
   "outputs": [
    {
     "name": "stdin",
     "output_type": "stream",
     "text": [
      "Enter the price of Product: 4000\n"
     ]
    },
    {
     "name": "stdout",
     "output_type": "stream",
     "text": [
      "Your total will be 3200.0\n",
      "You will get a goa trip\n"
     ]
    }
   ],
   "source": [
    "prodprice=int(input(\"Enter the price of Product:\"))\n",
    "if prodprice<=2000:\n",
    "    print(f\"Your total will be {prodprice*0.6}\")\n",
    "elif prodprice>2000 and prodprice<=3000:\n",
    "    if prodprice==2999:\n",
    "        print(\"You will get an additional gift\")\n",
    "        print(f\"Your total will be {prodprice*0.7}\")\n",
    "else:\n",
    "     print(f\"Your total will be {prodprice*0.8}\")\n",
    "if prodprice==4000:\n",
    "        print(\"You will get a goa trip\")"
   ]
  },
  {
   "cell_type": "code",
   "execution_count": 9,
   "id": "a7695c2d-bea7-4a09-906b-25aefe3d9b63",
   "metadata": {},
   "outputs": [
    {
     "name": "stdin",
     "output_type": "stream",
     "text": [
      "Enter the number 99\n"
     ]
    },
    {
     "name": "stdout",
     "output_type": "stream",
     "text": [
      "value is less than equal to 999\n"
     ]
    }
   ],
   "source": [
    "##single statement Suite\n",
    "val=int(input(\"Enter the number\"))\n",
    "if(val<=999):print(\"value is less than equal to 999\")\n"
   ]
  },
  {
   "cell_type": "markdown",
   "id": "837827bc-4961-461b-b490-82a591208f42",
   "metadata": {},
   "source": [
    "###Loop statements\n",
    "1. while loop\n",
    "2. for loop\n",
    "3. Nested loop\n",
    "4. Loop control(break, continue, pass)\n"
   ]
  },
  {
   "cell_type": "code",
   "execution_count": 4,
   "id": "2346c1c3-c1f0-4bdb-b6eb-89d1441ff153",
   "metadata": {},
   "outputs": [
    {
     "name": "stdout",
     "output_type": "stream",
     "text": [
      "25\n",
      "26\n",
      "27\n",
      "28\n",
      "29\n",
      "30\n",
      "31\n",
      "32\n",
      "33\n",
      "34\n",
      "35\n",
      "36\n",
      "37\n",
      "38\n",
      "39\n",
      "40\n",
      "41\n",
      "42\n",
      "43\n",
      "44\n",
      "45\n",
      "46\n",
      "47\n",
      "48\n",
      "49\n",
      "50\n",
      "51\n",
      "52\n",
      "53\n",
      "54\n",
      "55\n",
      "56\n",
      "57\n",
      "58\n",
      "59\n",
      "60\n",
      "You reached your retirment age\n"
     ]
    }
   ],
   "source": [
    "joining_age=25\n",
    "while joining_age<=60:\n",
    "    print(joining_age)\n",
    "    joining_age=joining_age+1\n",
    "else:\n",
    "    print(\"You reached your retirment age\")"
   ]
  },
  {
   "cell_type": "code",
   "execution_count": 5,
   "id": "b9eff1a6-159d-4a36-a497-c98feb86c41d",
   "metadata": {},
   "outputs": [
    {
     "name": "stdout",
     "output_type": "stream",
     "text": [
      "1200\n",
      "1100\n",
      "1000\n",
      "900\n",
      "800\n",
      "700\n",
      "600\n",
      "500\n",
      "400\n",
      "300\n",
      "200\n",
      "100\n",
      "Zero Balance.Please deposit some amount\n"
     ]
    }
   ],
   "source": [
    "atm_amount=1200\n",
    "while atm_amount!=0:\n",
    "    print(atm_amount)\n",
    "    atm_amount=atm_amount-100\n",
    "else:\n",
    "    print(\"Zero Balance.Please deposit some amount\")"
   ]
  },
  {
   "cell_type": "code",
   "execution_count": 7,
   "id": "262dd3d6-3d59-4490-b75e-8aad413f5c71",
   "metadata": {},
   "outputs": [
    {
     "data": {
      "text/plain": [
       "2"
      ]
     },
     "execution_count": 7,
     "metadata": {},
     "output_type": "execute_result"
    }
   ],
   "source": [
    "#for loop\n",
    "lst=[\"varun\",1,2,3.5]\n",
    "lst[2]\n"
   ]
  },
  {
   "cell_type": "code",
   "execution_count": 8,
   "id": "f26d0caf-b429-44aa-8af5-3bd44fbf92ab",
   "metadata": {},
   "outputs": [
    {
     "name": "stdout",
     "output_type": "stream",
     "text": [
      "varun\n",
      "1\n",
      "2\n",
      "3.5\n"
     ]
    }
   ],
   "source": [
    "for x in lst:\n",
    "    print(x)"
   ]
  },
  {
   "cell_type": "code",
   "execution_count": 9,
   "id": "e25d91a5-37f0-4d8a-8edb-cf0f67af50da",
   "metadata": {},
   "outputs": [
    {
     "name": "stdout",
     "output_type": "stream",
     "text": [
      "1\n",
      "3\n",
      "5\n",
      "7\n",
      "9\n"
     ]
    }
   ],
   "source": [
    "#Nested for loop\n",
    "for i   in range(1,10,2):\n",
    "    print(i)"
   ]
  },
  {
   "cell_type": "code",
   "execution_count": 22,
   "id": "40b8aa64-c674-49eb-a08e-faeb5000aa2d",
   "metadata": {},
   "outputs": [
    {
     "name": "stdout",
     "output_type": "stream",
     "text": [
      "*\n",
      "***\n",
      "*****\n",
      "*******\n"
     ]
    }
   ],
   "source": [
    "n=7\n",
    "for i in range(0,n,2):\n",
    "    for j in range(0,i+1):\n",
    "        print(\"*\",end=\"\")\n",
    "    print(\"\\r\")"
   ]
  },
  {
   "cell_type": "markdown",
   "id": "edd636a9-2aa1-47c7-9681-7d0f4a4f2d6a",
   "metadata": {},
   "source": [
    "## Loop control\n",
    "\n",
    "## break and continue\n",
    "* break leaves entire loop\n",
    "* continue skips only once\n",
    "* pass ?"
   ]
  },
  {
   "cell_type": "code",
   "execution_count": 4,
   "id": "40079bce-eeff-437c-847f-feade9d6561e",
   "metadata": {},
   "outputs": [
    {
     "name": "stdout",
     "output_type": "stream",
     "text": [
      "0\n",
      "1\n",
      "2\n"
     ]
    }
   ],
   "source": [
    "#doubt\n",
    "for i in range(0,3):\n",
    " print(i)"
   ]
  },
  {
   "cell_type": "code",
   "execution_count": null,
   "id": "1c831328-604e-4220-8ec6-d285132ef5a8",
   "metadata": {},
   "outputs": [],
   "source": []
  }
 ],
 "metadata": {
  "kernelspec": {
   "display_name": "Python 3 (ipykernel)",
   "language": "python",
   "name": "python3"
  },
  "language_info": {
   "codemirror_mode": {
    "name": "ipython",
    "version": 3
   },
   "file_extension": ".py",
   "mimetype": "text/x-python",
   "name": "python",
   "nbconvert_exporter": "python",
   "pygments_lexer": "ipython3",
   "version": "3.10.8"
  }
 },
 "nbformat": 4,
 "nbformat_minor": 5
}
